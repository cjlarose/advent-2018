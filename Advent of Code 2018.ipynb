{
 "cells": [
  {
   "cell_type": "markdown",
   "metadata": {},
   "source": [
    "# Day 1"
   ]
  },
  {
   "cell_type": "markdown",
   "metadata": {},
   "source": [
    "## Part 1"
   ]
  },
  {
   "cell_type": "markdown",
   "metadata": {},
   "source": [
    "At first I tried to use `map read` on the lines of the input, but that generates a runtime error. Positive frequencies are encoded with a leading `+` sign and Haskell refuses to parse those as one might expect. So here, we define a custom `parseInt` function that pulls off the leading `+` signs before passing the rest onto `read`."
   ]
  },
  {
   "cell_type": "code",
   "execution_count": 1,
   "metadata": {},
   "outputs": [],
   "source": [
    "parseInt :: String -> Int\n",
    "parseInt ('+':rest) = read rest\n",
    "parseInt str = read str"
   ]
  },
  {
   "cell_type": "markdown",
   "metadata": {},
   "source": [
    "With that out of the way, we compute the resulting frequency after passing through all of the additions and subtracts by just using the `sum` function on the parsed input."
   ]
  },
  {
   "cell_type": "code",
   "execution_count": 2,
   "metadata": {},
   "outputs": [],
   "source": [
    "resultingFrequency :: String -> Int\n",
    "resultingFrequency = sum . map parseInt . lines"
   ]
  },
  {
   "cell_type": "code",
   "execution_count": 3,
   "metadata": {},
   "outputs": [
    {
     "data": {
      "text/plain": [
       "500"
      ]
     },
     "metadata": {},
     "output_type": "display_data"
    }
   ],
   "source": [
    "readFile \"./inputs/1.txt\" >>= print . resultingFrequency"
   ]
  },
  {
   "cell_type": "markdown",
   "metadata": {},
   "source": [
    "## Part 2"
   ]
  },
  {
   "cell_type": "code",
   "execution_count": 4,
   "metadata": {},
   "outputs": [],
   "source": [
    "import qualified Data.Set as Set\n",
    "\n",
    "intermediateFrequencies :: [Int] -> [Int]\n",
    "intermediateFrequencies xs = 0 : f (0, xs)\n",
    "  where\n",
    "    f (currentFreq, []) = []\n",
    "    f (currentFreq, (x:xs)) = let newFreq = currentFreq + x in newFreq : f (newFreq, xs)\n",
    "\n",
    "firstDuplicate :: (Ord a) => [a] -> a\n",
    "firstDuplicate xs = f Set.empty xs\n",
    "  where\n",
    "    f visited (x:xs) = if x `Set.member` visited\n",
    "                         then x\n",
    "                         else f (Set.insert x visited) xs\n",
    "\n",
    "firstDuplicateFrequency :: String -> Int\n",
    "firstDuplicateFrequency = firstDuplicate . intermediateFrequencies . cycle . map parseInt . lines"
   ]
  },
  {
   "cell_type": "code",
   "execution_count": 5,
   "metadata": {},
   "outputs": [
    {
     "data": {
      "text/plain": [
       "709"
      ]
     },
     "metadata": {},
     "output_type": "display_data"
    }
   ],
   "source": [
    "readFile \"./inputs/1.txt\" >>= print . firstDuplicateFrequency"
   ]
  },
  {
   "cell_type": "markdown",
   "metadata": {},
   "source": [
    "# Day 2"
   ]
  },
  {
   "cell_type": "markdown",
   "metadata": {},
   "source": [
    "## Part 1"
   ]
  },
  {
   "cell_type": "markdown",
   "metadata": {},
   "source": [
    "There's a function `group` in `Data.List` that groups together subsequences of equal elements in a list."
   ]
  },
  {
   "cell_type": "code",
   "execution_count": 6,
   "metadata": {},
   "outputs": [
    {
     "data": {
      "text/plain": [
       "[\"M\",\"i\",\"ss\",\"i\",\"ss\",\"i\",\"pp\",\"i\"]"
      ]
     },
     "metadata": {},
     "output_type": "display_data"
    }
   ],
   "source": [
    "import Data.List (group)\n",
    "group \"Mississippi\""
   ]
  },
  {
   "cell_type": "markdown",
   "metadata": {},
   "source": [
    "If we apply this to a box ID after we sort its letters we'll get something like this."
   ]
  },
  {
   "cell_type": "code",
   "execution_count": 7,
   "metadata": {},
   "outputs": [
    {
     "data": {
      "text/plain": [
       "[\"a\",\"b\",\"c\",\"d\",\"e\",\"g\",\"hh\",\"i\",\"j\",\"k\",\"l\",\"m\",\"o\",\"p\",\"qq\",\"r\",\"s\",\"t\",\"uu\",\"v\",\"w\",\"x\",\"y\"]"
      ]
     },
     "metadata": {},
     "output_type": "display_data"
    }
   ],
   "source": [
    "let boxId = \"evsialkqydurohxqpwbcugtjmh\"\n",
    "\n",
    "import Data.List (sort)\n",
    "group . sort $ boxId"
   ]
  },
  {
   "cell_type": "markdown",
   "metadata": {},
   "source": [
    "Now we can just test if there are any elements of this list that contain exactly 2 characters and test if there are any that contain exactly 3 elements."
   ]
  },
  {
   "cell_type": "code",
   "execution_count": 8,
   "metadata": {},
   "outputs": [
    {
     "data": {
      "text/plain": [
       "True"
      ]
     },
     "metadata": {},
     "output_type": "display_data"
    }
   ],
   "source": [
    "any (\\x -> length x == 2) . group . sort $ boxId"
   ]
  },
  {
   "cell_type": "code",
   "execution_count": 9,
   "metadata": {},
   "outputs": [
    {
     "data": {
      "text/plain": [
       "False"
      ]
     },
     "metadata": {},
     "output_type": "display_data"
    }
   ],
   "source": [
    "any (\\x -> length x == 3) . group . sort $ boxId"
   ]
  },
  {
   "cell_type": "markdown",
   "metadata": {},
   "source": [
    "Putting it all together:"
   ]
  },
  {
   "cell_type": "code",
   "execution_count": 10,
   "metadata": {},
   "outputs": [],
   "source": [
    "checksum :: [String] -> Int\n",
    "checksum xs = numIdsWithRepeatedChars 2 * numIdsWithRepeatedChars 3\n",
    "  where\n",
    "    numIdsWithRepeatedChars n = length . filter (any (\\x -> length x == n) . group . sort) $ xs"
   ]
  },
  {
   "cell_type": "code",
   "execution_count": 11,
   "metadata": {},
   "outputs": [
    {
     "data": {
      "text/plain": [
       "6448"
      ]
     },
     "metadata": {},
     "output_type": "display_data"
    }
   ],
   "source": [
    "day2Input <- readFile \"./inputs/2.txt\"\n",
    "checksum . lines $ day2Input"
   ]
  },
  {
   "cell_type": "markdown",
   "metadata": {},
   "source": [
    "## Part 2"
   ]
  },
  {
   "cell_type": "markdown",
   "metadata": {},
   "source": [
    "Naively, we can test each string against every other string to count the number of differing characters. I want a function that, given a list, returns a list of pairs of elements."
   ]
  },
  {
   "cell_type": "code",
   "execution_count": 12,
   "metadata": {},
   "outputs": [],
   "source": [
    "pairs :: [a] -> [(a,a)]\n",
    "pairs (x:xs) = map (\\y -> (x, y)) xs ++ pairs xs\n",
    "pairs [] = []"
   ]
  },
  {
   "cell_type": "markdown",
   "metadata": {},
   "source": [
    "For example,"
   ]
  },
  {
   "cell_type": "code",
   "execution_count": 13,
   "metadata": {},
   "outputs": [
    {
     "data": {
      "text/plain": [
       "[(1,2),(1,3),(1,4),(2,3),(2,4),(3,4)]"
      ]
     },
     "metadata": {},
     "output_type": "display_data"
    }
   ],
   "source": [
    "pairs [1,2,3,4]"
   ]
  },
  {
   "cell_type": "markdown",
   "metadata": {},
   "source": [
    "Now that we can compute all of the pairs on box IDs we need to compare, we a way to calculate if two box IDs differ by exactly one character."
   ]
  },
  {
   "cell_type": "code",
   "execution_count": 14,
   "metadata": {},
   "outputs": [],
   "source": [
    "editDistance :: Eq a => [a] -> [a] -> Int\n",
    "editDistance xs ys = length . filter (\\(x, y) -> x /= y) $ zip xs ys"
   ]
  },
  {
   "cell_type": "code",
   "execution_count": 15,
   "metadata": {},
   "outputs": [
    {
     "data": {
      "text/plain": [
       "3"
      ]
     },
     "metadata": {},
     "output_type": "display_data"
    }
   ],
   "source": [
    "editDistance \"abc\" \"xyz\""
   ]
  },
  {
   "cell_type": "code",
   "execution_count": 16,
   "metadata": {},
   "outputs": [
    {
     "data": {
      "text/plain": [
       "1"
      ]
     },
     "metadata": {},
     "output_type": "display_data"
    }
   ],
   "source": [
    "editDistance \"abc\" \"azc\""
   ]
  },
  {
   "cell_type": "markdown",
   "metadata": {},
   "source": [
    "Now we can find the unique pair of box IDs whose `editDistance` is 1. But after that, we'll need to construct the string composed of the letters shared between the two."
   ]
  },
  {
   "cell_type": "code",
   "execution_count": 17,
   "metadata": {},
   "outputs": [],
   "source": [
    "sharedSubsequence :: Eq a => [a] -> [a] -> [a]\n",
    "sharedSubsequence xs ys = map fst . filter (\\(x, y) -> x == y) $ zip xs ys"
   ]
  },
  {
   "cell_type": "code",
   "execution_count": 18,
   "metadata": {},
   "outputs": [
    {
     "data": {
      "text/plain": [
       "\"abde\""
      ]
     },
     "metadata": {},
     "output_type": "display_data"
    }
   ],
   "source": [
    "sharedSubsequence \"abcde\" \"abzde\""
   ]
  },
  {
   "cell_type": "markdown",
   "metadata": {},
   "source": [
    "Finally,"
   ]
  },
  {
   "cell_type": "code",
   "execution_count": 19,
   "metadata": {},
   "outputs": [],
   "source": [
    "import Data.List (find)\n",
    "\n",
    "commonLettersBetweenCorrectBoxIds :: [String] -> Maybe String\n",
    "commonLettersBetweenCorrectBoxIds xs = uncurry sharedSubsequence <$> pair\n",
    "  where\n",
    "    pair = find ((== 1) . uncurry editDistance) . pairs $ xs"
   ]
  },
  {
   "cell_type": "code",
   "execution_count": 20,
   "metadata": {},
   "outputs": [
    {
     "data": {
      "text/plain": [
       "Just \"evsialkqyiurohzpwucngttmf\""
      ]
     },
     "metadata": {},
     "output_type": "display_data"
    }
   ],
   "source": [
    "commonLettersBetweenCorrectBoxIds . lines $ day2Input"
   ]
  }
 ],
 "metadata": {
  "kernelspec": {
   "display_name": "Haskell",
   "language": "haskell",
   "name": "haskell"
  },
  "language_info": {
   "codemirror_mode": "ihaskell",
   "file_extension": ".hs",
   "name": "haskell",
   "pygments_lexer": "Haskell",
   "version": "8.4.4"
  }
 },
 "nbformat": 4,
 "nbformat_minor": 2
}
