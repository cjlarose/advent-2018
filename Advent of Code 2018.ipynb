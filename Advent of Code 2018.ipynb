{
 "cells": [
  {
   "cell_type": "markdown",
   "metadata": {},
   "source": [
    "# Day 1"
   ]
  },
  {
   "cell_type": "markdown",
   "metadata": {},
   "source": [
    "## Part 1"
   ]
  },
  {
   "cell_type": "markdown",
   "metadata": {},
   "source": [
    "At first I tried to use `map read` on the lines of the input, but that generates a runtime error. Positive frequencies are encoded with a leading `+` sign and Haskell refuses to parse those as one might expect. So here, we define a custom `parseInt` function that pulls off the leading `+` signs before passing the rest onto `read`."
   ]
  },
  {
   "cell_type": "code",
   "execution_count": 1,
   "metadata": {},
   "outputs": [],
   "source": [
    "parseInt :: String -> Int\n",
    "parseInt ('+':rest) = read rest\n",
    "parseInt str = read str"
   ]
  },
  {
   "cell_type": "markdown",
   "metadata": {},
   "source": [
    "With that out of the way, we compute the resulting frequency after passing through all of the additions and subtracts by just using the `sum` function on the parsed input."
   ]
  },
  {
   "cell_type": "code",
   "execution_count": 2,
   "metadata": {},
   "outputs": [],
   "source": [
    "resultingFrequency :: String -> Int\n",
    "resultingFrequency = sum . map parseInt . lines"
   ]
  },
  {
   "cell_type": "code",
   "execution_count": 3,
   "metadata": {},
   "outputs": [
    {
     "data": {
      "text/plain": [
       "500"
      ]
     },
     "metadata": {},
     "output_type": "display_data"
    }
   ],
   "source": [
    "input <- readFile \"./inputs/1.txt\"\n",
    "print . resultingFrequency $ input"
   ]
  },
  {
   "cell_type": "markdown",
   "metadata": {},
   "source": [
    "## Part 2"
   ]
  },
  {
   "cell_type": "code",
   "execution_count": 4,
   "metadata": {},
   "outputs": [],
   "source": [
    "import qualified Data.Set as Set\n",
    "\n",
    "intermediateFrequencies :: [Int] -> [Int]\n",
    "intermediateFrequencies xs = 0 : f (0, xs)\n",
    "  where\n",
    "    f (currentFreq, []) = []\n",
    "    f (currentFreq, (x:xs)) = let newFreq = currentFreq + x in newFreq : f (newFreq, xs)\n",
    "\n",
    "firstDuplicate :: (Ord a) => [a] -> a\n",
    "firstDuplicate xs = f Set.empty xs\n",
    "  where\n",
    "    f visited (x:xs) = if x `Set.member` visited\n",
    "                         then x\n",
    "                         else f (Set.insert x visited) xs\n",
    "\n",
    "firstDuplicateFrequency :: String -> Int\n",
    "firstDuplicateFrequency = firstDuplicate . intermediateFrequencies . cycle . map parseInt . lines"
   ]
  },
  {
   "cell_type": "code",
   "execution_count": 5,
   "metadata": {},
   "outputs": [
    {
     "data": {
      "text/plain": [
       "709"
      ]
     },
     "metadata": {},
     "output_type": "display_data"
    }
   ],
   "source": [
    "print . firstDuplicateFrequency $ input"
   ]
  }
 ],
 "metadata": {
  "kernelspec": {
   "display_name": "Haskell",
   "language": "haskell",
   "name": "haskell"
  },
  "language_info": {
   "codemirror_mode": "ihaskell",
   "file_extension": ".hs",
   "name": "haskell",
   "pygments_lexer": "Haskell",
   "version": "8.4.4"
  }
 },
 "nbformat": 4,
 "nbformat_minor": 2
}
